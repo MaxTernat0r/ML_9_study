{
 "cells": [
  {
   "cell_type": "markdown",
   "metadata": {},
   "source": [
    "Скачаем данные"
   ]
  },
  {
   "cell_type": "code",
   "execution_count": 494,
   "metadata": {},
   "outputs": [
    {
     "name": "stderr",
     "output_type": "stream",
     "text": [
      "\"wget\" �� ���� ����७��� ��� ���譥�\n",
      "��������, �ᯮ��塞�� �ணࠬ��� ��� ������ 䠩���.\n"
     ]
    }
   ],
   "source": [
    "!wget https://storage.geekclass.ru/images/57eecb91-cd8e-4904-b2cb-e1ddc052de4a.csv -O flights.csv"
   ]
  },
  {
   "cell_type": "code",
   "execution_count": 495,
   "metadata": {},
   "outputs": [],
   "source": [
    "import pandas as pd\n",
    "import matplotlib as plt"
   ]
  },
  {
   "cell_type": "markdown",
   "metadata": {},
   "source": [
    "Загрузите данные из файла ```flights.csv```"
   ]
  },
  {
   "cell_type": "code",
   "execution_count": 496,
   "metadata": {},
   "outputs": [],
   "source": [
    "data = pd.read_csv(\"flights.csv\")"
   ]
  },
  {
   "cell_type": "code",
   "execution_count": 497,
   "metadata": {},
   "outputs": [],
   "source": [
    "cnt = 0"
   ]
  },
  {
   "cell_type": "markdown",
   "metadata": {},
   "source": [
    "Наша целевая переменная для классификации: ```Cancelled```, а для регрессии -- ```AirTime``` Сохраним их отдельно и удалим из основных данных"
   ]
  },
  {
   "cell_type": "code",
   "execution_count": 498,
   "metadata": {},
   "outputs": [],
   "source": [
    "y = data.Cancelled\n",
    "y_regression = data.AirTime.fillna(0)\n",
    "\n",
    "data = data.drop(['AirTime','Cancelled'], axis=1)"
   ]
  },
  {
   "cell_type": "code",
   "execution_count": 499,
   "metadata": {},
   "outputs": [],
   "source": [
    "leaky_features = [\"CancellationCode\", \"Year\", \"Diverted\", \"ArrTime\", \"ActualElapsedTime\",\n",
    "                  \"ActualElapsedTime\", \"ArrDelay\", \"TaxiIn\",\"TaxiOut\", \"CarrierDelay\",\n",
    "                  'TailNum', \"WeatherDelay\", \"NASDelay\", \"SecurityDelay\",\"LateAircraftDelay\",'DepTime', 'DepDelay']"
   ]
  },
  {
   "cell_type": "markdown",
   "metadata": {},
   "source": [
    "```leaky_features``` -- это фичи, которые мы знаем только если знаем целевую. Если модель обучится на них, она не сможет давать предсказания для новых данных.\n",
    "\n",
    "Удалите эти фичи из данных"
   ]
  },
  {
   "cell_type": "code",
   "execution_count": 500,
   "metadata": {},
   "outputs": [],
   "source": [
    "data = data.drop([\"CancellationCode\", \"Year\", \"Diverted\", \"ArrTime\", \"ActualElapsedTime\",\n",
    "                  \"ActualElapsedTime\", \"ArrDelay\", \"TaxiIn\",\"TaxiOut\", \"CarrierDelay\",\n",
    "                  'TailNum', \"WeatherDelay\", \"NASDelay\", \"SecurityDelay\",\"LateAircraftDelay\", \"DepTime\", \"DepDelay\"], axis=1)"
   ]
  },
  {
   "cell_type": "markdown",
   "metadata": {},
   "source": [
    "Посмотрите на гистограммы признаков. Можно ли какие-то удалить? Почему? "
   ]
  },
  {
   "cell_type": "code",
   "execution_count": 501,
   "metadata": {},
   "outputs": [
    {
     "data": {
      "text/html": [
       "<div>\n",
       "<style scoped>\n",
       "    .dataframe tbody tr th:only-of-type {\n",
       "        vertical-align: middle;\n",
       "    }\n",
       "\n",
       "    .dataframe tbody tr th {\n",
       "        vertical-align: top;\n",
       "    }\n",
       "\n",
       "    .dataframe thead th {\n",
       "        text-align: right;\n",
       "    }\n",
       "</style>\n",
       "<table border=\"1\" class=\"dataframe\">\n",
       "  <thead>\n",
       "    <tr style=\"text-align: right;\">\n",
       "      <th></th>\n",
       "      <th>Month</th>\n",
       "      <th>DayofMonth</th>\n",
       "      <th>DayOfWeek</th>\n",
       "      <th>CRSDepTime</th>\n",
       "      <th>CRSArrTime</th>\n",
       "      <th>UniqueCarrier</th>\n",
       "      <th>FlightNum</th>\n",
       "      <th>CRSElapsedTime</th>\n",
       "      <th>Origin</th>\n",
       "      <th>Dest</th>\n",
       "      <th>Distance</th>\n",
       "    </tr>\n",
       "  </thead>\n",
       "  <tbody>\n",
       "    <tr>\n",
       "      <th>0</th>\n",
       "      <td>1</td>\n",
       "      <td>3</td>\n",
       "      <td>4</td>\n",
       "      <td>1955</td>\n",
       "      <td>2225</td>\n",
       "      <td>WN</td>\n",
       "      <td>335</td>\n",
       "      <td>150</td>\n",
       "      <td>IAD</td>\n",
       "      <td>TPA</td>\n",
       "      <td>810</td>\n",
       "    </tr>\n",
       "    <tr>\n",
       "      <th>1</th>\n",
       "      <td>1</td>\n",
       "      <td>3</td>\n",
       "      <td>4</td>\n",
       "      <td>735</td>\n",
       "      <td>1000</td>\n",
       "      <td>WN</td>\n",
       "      <td>3231</td>\n",
       "      <td>145</td>\n",
       "      <td>IAD</td>\n",
       "      <td>TPA</td>\n",
       "      <td>810</td>\n",
       "    </tr>\n",
       "    <tr>\n",
       "      <th>2</th>\n",
       "      <td>1</td>\n",
       "      <td>3</td>\n",
       "      <td>4</td>\n",
       "      <td>620</td>\n",
       "      <td>750</td>\n",
       "      <td>WN</td>\n",
       "      <td>448</td>\n",
       "      <td>90</td>\n",
       "      <td>IND</td>\n",
       "      <td>BWI</td>\n",
       "      <td>515</td>\n",
       "    </tr>\n",
       "    <tr>\n",
       "      <th>3</th>\n",
       "      <td>1</td>\n",
       "      <td>3</td>\n",
       "      <td>4</td>\n",
       "      <td>930</td>\n",
       "      <td>1100</td>\n",
       "      <td>WN</td>\n",
       "      <td>1746</td>\n",
       "      <td>90</td>\n",
       "      <td>IND</td>\n",
       "      <td>BWI</td>\n",
       "      <td>515</td>\n",
       "    </tr>\n",
       "    <tr>\n",
       "      <th>4</th>\n",
       "      <td>1</td>\n",
       "      <td>3</td>\n",
       "      <td>4</td>\n",
       "      <td>1755</td>\n",
       "      <td>1925</td>\n",
       "      <td>WN</td>\n",
       "      <td>3920</td>\n",
       "      <td>90</td>\n",
       "      <td>IND</td>\n",
       "      <td>BWI</td>\n",
       "      <td>515</td>\n",
       "    </tr>\n",
       "    <tr>\n",
       "      <th>...</th>\n",
       "      <td>...</td>\n",
       "      <td>...</td>\n",
       "      <td>...</td>\n",
       "      <td>...</td>\n",
       "      <td>...</td>\n",
       "      <td>...</td>\n",
       "      <td>...</td>\n",
       "      <td>...</td>\n",
       "      <td>...</td>\n",
       "      <td>...</td>\n",
       "      <td>...</td>\n",
       "    </tr>\n",
       "    <tr>\n",
       "      <th>99994</th>\n",
       "      <td>1</td>\n",
       "      <td>24</td>\n",
       "      <td>4</td>\n",
       "      <td>1935</td>\n",
       "      <td>2257</td>\n",
       "      <td>XE</td>\n",
       "      <td>7676</td>\n",
       "      <td>142</td>\n",
       "      <td>SLC</td>\n",
       "      <td>OKC</td>\n",
       "      <td>866</td>\n",
       "    </tr>\n",
       "    <tr>\n",
       "      <th>99995</th>\n",
       "      <td>1</td>\n",
       "      <td>25</td>\n",
       "      <td>5</td>\n",
       "      <td>1935</td>\n",
       "      <td>2257</td>\n",
       "      <td>XE</td>\n",
       "      <td>7676</td>\n",
       "      <td>142</td>\n",
       "      <td>SLC</td>\n",
       "      <td>OKC</td>\n",
       "      <td>866</td>\n",
       "    </tr>\n",
       "    <tr>\n",
       "      <th>99996</th>\n",
       "      <td>1</td>\n",
       "      <td>26</td>\n",
       "      <td>6</td>\n",
       "      <td>1935</td>\n",
       "      <td>2257</td>\n",
       "      <td>XE</td>\n",
       "      <td>7676</td>\n",
       "      <td>142</td>\n",
       "      <td>SLC</td>\n",
       "      <td>OKC</td>\n",
       "      <td>866</td>\n",
       "    </tr>\n",
       "    <tr>\n",
       "      <th>99997</th>\n",
       "      <td>1</td>\n",
       "      <td>27</td>\n",
       "      <td>7</td>\n",
       "      <td>1935</td>\n",
       "      <td>2257</td>\n",
       "      <td>XE</td>\n",
       "      <td>7676</td>\n",
       "      <td>142</td>\n",
       "      <td>SLC</td>\n",
       "      <td>OKC</td>\n",
       "      <td>866</td>\n",
       "    </tr>\n",
       "    <tr>\n",
       "      <th>99998</th>\n",
       "      <td>1</td>\n",
       "      <td>28</td>\n",
       "      <td>1</td>\n",
       "      <td>1935</td>\n",
       "      <td>2257</td>\n",
       "      <td>XE</td>\n",
       "      <td>7676</td>\n",
       "      <td>142</td>\n",
       "      <td>SLC</td>\n",
       "      <td>OKC</td>\n",
       "      <td>866</td>\n",
       "    </tr>\n",
       "  </tbody>\n",
       "</table>\n",
       "<p>99999 rows × 11 columns</p>\n",
       "</div>"
      ],
      "text/plain": [
       "       Month  DayofMonth  DayOfWeek  CRSDepTime  CRSArrTime UniqueCarrier  \\\n",
       "0          1           3          4        1955        2225            WN   \n",
       "1          1           3          4         735        1000            WN   \n",
       "2          1           3          4         620         750            WN   \n",
       "3          1           3          4         930        1100            WN   \n",
       "4          1           3          4        1755        1925            WN   \n",
       "...      ...         ...        ...         ...         ...           ...   \n",
       "99994      1          24          4        1935        2257            XE   \n",
       "99995      1          25          5        1935        2257            XE   \n",
       "99996      1          26          6        1935        2257            XE   \n",
       "99997      1          27          7        1935        2257            XE   \n",
       "99998      1          28          1        1935        2257            XE   \n",
       "\n",
       "       FlightNum  CRSElapsedTime Origin Dest  Distance  \n",
       "0            335             150    IAD  TPA       810  \n",
       "1           3231             145    IAD  TPA       810  \n",
       "2            448              90    IND  BWI       515  \n",
       "3           1746              90    IND  BWI       515  \n",
       "4           3920              90    IND  BWI       515  \n",
       "...          ...             ...    ...  ...       ...  \n",
       "99994       7676             142    SLC  OKC       866  \n",
       "99995       7676             142    SLC  OKC       866  \n",
       "99996       7676             142    SLC  OKC       866  \n",
       "99997       7676             142    SLC  OKC       866  \n",
       "99998       7676             142    SLC  OKC       866  \n",
       "\n",
       "[99999 rows x 11 columns]"
      ]
     },
     "execution_count": 501,
     "metadata": {},
     "output_type": "execute_result"
    }
   ],
   "source": [
    "data"
   ]
  },
  {
   "cell_type": "code",
   "execution_count": 502,
   "metadata": {},
   "outputs": [
    {
     "data": {
      "text/plain": [
       "<Axes: >"
      ]
     },
     "execution_count": 502,
     "metadata": {},
     "output_type": "execute_result"
    },
    {
     "data": {
      "image/png": "[encoded data removed]",
      "text/plain": [
       "<Figure size 640x480 with 1 Axes>"
      ]
     },
     "metadata": {},
     "output_type": "display_data"
    }
   ],
   "source": [
    "data['Month'].hist()"
   ]
  },
  {
   "cell_type": "code",
   "execution_count": 503,
   "metadata": {},
   "outputs": [
    {
     "data": {
      "text/plain": [
       "<Axes: >"
      ]
     },
     "execution_count": 503,
     "metadata": {},
     "output_type": "execute_result"
    },
    {
     "data": {
      "image/png": "[encoded data removed]",
      "text/plain": [
       "<Figure size 640x480 with 1 Axes>"
      ]
     },
     "metadata": {},
     "output_type": "display_data"
    }
   ],
   "source": [
    "data['DayofMonth'].hist()"
   ]
  },
  {
   "cell_type": "code",
   "execution_count": 504,
   "metadata": {},
   "outputs": [
    {
     "data": {
      "text/plain": [
       "<Axes: >"
      ]
     },
     "execution_count": 504,
     "metadata": {},
     "output_type": "execute_result"
    },
    {
     "data": {
      "image/png": "[encoded data removed]",
      "text/plain": [
       "<Figure size 640x480 with 1 Axes>"
      ]
     },
     "metadata": {},
     "output_type": "display_data"
    }
   ],
   "source": [
    "data['DayOfWeek'].hist()"
   ]
  },
  {
   "cell_type": "code",
   "execution_count": 505,
   "metadata": {},
   "outputs": [
    {
     "data": {
      "text/plain": [
       "<Axes: >"
      ]
     },
     "execution_count": 505,
     "metadata": {},
     "output_type": "execute_result"
    },
    {
     "data": {
      "image/png": "[encoded data removed]",
      "text/plain": [
       "<Figure size 640x480 with 1 Axes>"
      ]
     },
     "metadata": {},
     "output_type": "display_data"
    }
   ],
   "source": [
    "data['CRSDepTime'].hist()"
   ]
  },
  {
   "cell_type": "code",
   "execution_count": 506,
   "metadata": {},
   "outputs": [
    {
     "data": {
      "text/plain": [
       "<Axes: >"
      ]
     },
     "execution_count": 506,
     "metadata": {},
     "output_type": "execute_result"
    },
    {
     "data": {
      "image/png": "[encoded data removed]",
      "text/plain": [
       "<Figure size 640x480 with 1 Axes>"
      ]
     },
     "metadata": {},
     "output_type": "display_data"
    }
   ],
   "source": [
    "data['CRSArrTime'].hist()"
   ]
  },
  {
   "cell_type": "code",
   "execution_count": 507,
   "metadata": {},
   "outputs": [
    {
     "data": {
      "text/plain": [
       "<Axes: >"
      ]
     },
     "execution_count": 507,
     "metadata": {},
     "output_type": "execute_result"
    },
    {
     "data": {
      "image/png": "[encoded data removed]",
      "text/plain": [
       "<Figure size 640x480 with 1 Axes>"
      ]
     },
     "metadata": {},
     "output_type": "display_data"
    }
   ],
   "source": [
    "data['UniqueCarrier'].hist()"
   ]
  },
  {
   "cell_type": "code",
   "execution_count": 508,
   "metadata": {},
   "outputs": [
    {
     "data": {
      "text/plain": [
       "<Axes: >"
      ]
     },
     "execution_count": 508,
     "metadata": {},
     "output_type": "execute_result"
    },
    {
     "data": {
      "image/png": "[encoded data removed]",
      "text/plain": [
       "<Figure size 640x480 with 1 Axes>"
      ]
     },
     "metadata": {},
     "output_type": "display_data"
    }
   ],
   "source": [
    "data['FlightNum'].hist()"
   ]
  },
  {
   "cell_type": "code",
   "execution_count": 509,
   "metadata": {},
   "outputs": [
    {
     "data": {
      "text/plain": [
       "<Axes: >"
      ]
     },
     "execution_count": 509,
     "metadata": {},
     "output_type": "execute_result"
    },
    {
     "data": {
      "image/png": "[encoded data removed]",
      "text/plain": [
       "<Figure size 640x480 with 1 Axes>"
      ]
     },
     "metadata": {},
     "output_type": "display_data"
    }
   ],
   "source": [
    "data['CRSElapsedTime'].hist()"
   ]
  },
  {
   "cell_type": "code",
   "execution_count": 510,
   "metadata": {},
   "outputs": [
    {
     "data": {
      "text/plain": [
       "<Axes: >"
      ]
     },
     "execution_count": 510,
     "metadata": {},
     "output_type": "execute_result"
    },
    {
     "data": {
      "image/png": "[encoded data removed]",
      "text/plain": [
       "<Figure size 640x480 with 1 Axes>"
      ]
     },
     "metadata": {},
     "output_type": "display_data"
    }
   ],
   "source": [
    "data['Origin'].hist()"
   ]
  },
  {
   "cell_type": "code",
   "execution_count": 511,
   "metadata": {},
   "outputs": [
    {
     "data": {
      "text/plain": [
       "<Axes: >"
      ]
     },
     "execution_count": 511,
     "metadata": {},
     "output_type": "execute_result"
    },
    {
     "data": {
      "image/png": "[encoded data removed]",
      "text/plain": [
       "<Figure size 640x480 with 1 Axes>"
      ]
     },
     "metadata": {},
     "output_type": "display_data"
    }
   ],
   "source": [
    "data['Dest'].hist()"
   ]
  },
  {
   "cell_type": "code",
   "execution_count": 512,
   "metadata": {},
   "outputs": [
    {
     "data": {
      "text/plain": [
       "<Axes: >"
      ]
     },
     "execution_count": 512,
     "metadata": {},
     "output_type": "execute_result"
    },
    {
     "data": {
      "image/png": "[encoded data removed]",
      "text/plain": [
       "<Figure size 640x480 with 1 Axes>"
      ]
     },
     "metadata": {},
     "output_type": "display_data"
    }
   ],
   "source": [
    "data['Distance'].hist()"
   ]
  },
  {
   "cell_type": "markdown",
   "metadata": {},
   "source": [
    "Удалите бесполезные признаки, выбранные вами на предыдущем шаге"
   ]
  },
  {
   "cell_type": "code",
   "execution_count": 469,
   "metadata": {},
   "outputs": [],
   "source": [
    "#data['Month'] можно удалить, так как они везде одинаковый"
   ]
  },
  {
   "cell_type": "code",
   "execution_count": 470,
   "metadata": {},
   "outputs": [],
   "source": [
    "data = data.drop(['Month'], axis=1)"
   ]
  },
  {
   "cell_type": "markdown",
   "metadata": {},
   "source": [
    "Переведите все категориальные признаки в числовые. \n",
    "Значения признанов, встречающиеся менее 50 раз замените на значение ```Rare```.\n",
    "\n",
    "Если значение ```Rare``` встречается меньше 50 раз, не надо добавлять его как отдельную колонку.\n",
    "\n",
    "(если это задание не получается, просто удалите категориальные признаки, но это будет стоить вам баллов)\n",
    "\n",
    "Подсказка: можете использовать pd.get_dummies (Можно использовать tab и shift+tab для того, чтобы открыть документацию)"
   ]
  },
  {
   "cell_type": "code",
   "execution_count": 471,
   "metadata": {},
   "outputs": [],
   "source": [
    "#for col in data.columns:\n",
    "#    if data[col].dtype == 'object': # Выбираем категориальные признаки\n",
    "        "
   ]
  },
  {
   "cell_type": "code",
   "execution_count": 472,
   "metadata": {},
   "outputs": [],
   "source": [
    "# cnt = 0\n",
    "# data_makeint1 = pd.get_dummies(data['UniqueCarrier'], prefix='is_')\n",
    "# for col in data_makeint1.columns:\n",
    "#     data_makeint1[col] = data_makeint1[col].astype(int)\n",
    "# for col in data_makeint1.columns:\n",
    "#     if col != \"is_UniqueCarrier_Rare\":\n",
    "#         if data_makeint1[col].sum() < 50:\n",
    "#             data_makeint1.drop([col], axis=0)\n",
    "#             cnt += 1\n",
    "#             data_makeint1['is_UniqueCarrier_Rare'] = cnt\n",
    "#             data_makeint1 = data_makeint1.drop([col], axis=1)"
   ]
  },
  {
   "cell_type": "code",
   "execution_count": 518,
   "metadata": {},
   "outputs": [],
   "source": [
    "# cnt = 0\n",
    "# data_makeint2 = pd.get_dummies(data['Origin'], prefix='is_')\n",
    "# for col in data_makeint2.columns:\n",
    "#     data_makeint2[col] = data_makeint2[col].astype(int)\n",
    "# for col in data_makeint2.columns:\n",
    "#     if col != \"is_Origin_Rare\":\n",
    "#         if data_makeint2[col].sum() < 50:\n",
    "#             cnt += 1\n",
    "#             data_makeint2['is_Origin_Rare'] = cnt\n",
    "#             data_makeint2 = data_makeint2.drop([col], axis=1)"
   ]
  },
  {
   "cell_type": "code",
   "execution_count": 491,
   "metadata": {},
   "outputs": [],
   "source": [
    "# cnt = 0\n",
    "# data_makeint3 = pd.get_dummies(data['Dest'], prefix='is_')\n",
    "# for col in data_makeint3.columns:\n",
    "#     data_makeint3[col] = data_makeint3[col].astype(int)\n",
    "# for col in data_makeint3.columns:\n",
    "#     if col != \"is_Dest_Rare\":\n",
    "#         if data_makeint3[col].sum() < 50:\n",
    "#             data_makeint3.drop([col], axis=0)\n",
    "#             cnt += 1\n",
    "#             data_makeint3['is_Dest_Rare'] = cnt\n",
    "#             data_makeint3 = data_makeint3.drop([col], axis=1)"
   ]
  },
  {
   "cell_type": "code",
   "execution_count": 439,
   "metadata": {},
   "outputs": [],
   "source": [
    "# data = pd.concat([data, data_makeint1] , axis=1)\n",
    "# data = pd.concat([data, data_makeint2] , axis=1)\n",
    "# data = pd.concat([data, data_makeint3] , axis=1)"
   ]
  },
  {
   "cell_type": "code",
   "execution_count": 440,
   "metadata": {},
   "outputs": [
    {
     "data": {
      "text/html": [
       "<div>\n",
       "<style scoped>\n",
       "    .dataframe tbody tr th:only-of-type {\n",
       "        vertical-align: middle;\n",
       "    }\n",
       "\n",
       "    .dataframe tbody tr th {\n",
       "        vertical-align: top;\n",
       "    }\n",
       "\n",
       "    .dataframe thead th {\n",
       "        text-align: right;\n",
       "    }\n",
       "</style>\n",
       "<table border=\"1\" class=\"dataframe\">\n",
       "  <thead>\n",
       "    <tr style=\"text-align: right;\">\n",
       "      <th></th>\n",
       "      <th>DayofMonth</th>\n",
       "      <th>DayOfWeek</th>\n",
       "      <th>CRSDepTime</th>\n",
       "      <th>CRSArrTime</th>\n",
       "      <th>UniqueCarrier</th>\n",
       "      <th>FlightNum</th>\n",
       "      <th>CRSElapsedTime</th>\n",
       "      <th>Origin</th>\n",
       "      <th>Dest</th>\n",
       "      <th>Distance</th>\n",
       "      <th>...</th>\n",
       "      <th>is__SFO</th>\n",
       "      <th>is__SJC</th>\n",
       "      <th>is__SLC</th>\n",
       "      <th>is__SMF</th>\n",
       "      <th>is__SNA</th>\n",
       "      <th>is__STL</th>\n",
       "      <th>is__TPA</th>\n",
       "      <th>is__TUL</th>\n",
       "      <th>is__TUS</th>\n",
       "      <th>is_Dest_Rare</th>\n",
       "    </tr>\n",
       "  </thead>\n",
       "  <tbody>\n",
       "    <tr>\n",
       "      <th>0</th>\n",
       "      <td>3</td>\n",
       "      <td>4</td>\n",
       "      <td>1955</td>\n",
       "      <td>2225</td>\n",
       "      <td>WN</td>\n",
       "      <td>335</td>\n",
       "      <td>150</td>\n",
       "      <td>IAD</td>\n",
       "      <td>TPA</td>\n",
       "      <td>810</td>\n",
       "      <td>...</td>\n",
       "      <td>0</td>\n",
       "      <td>0</td>\n",
       "      <td>0</td>\n",
       "      <td>0</td>\n",
       "      <td>0</td>\n",
       "      <td>0</td>\n",
       "      <td>1</td>\n",
       "      <td>0</td>\n",
       "      <td>0</td>\n",
       "      <td>12</td>\n",
       "    </tr>\n",
       "    <tr>\n",
       "      <th>1</th>\n",
       "      <td>3</td>\n",
       "      <td>4</td>\n",
       "      <td>735</td>\n",
       "      <td>1000</td>\n",
       "      <td>WN</td>\n",
       "      <td>3231</td>\n",
       "      <td>145</td>\n",
       "      <td>IAD</td>\n",
       "      <td>TPA</td>\n",
       "      <td>810</td>\n",
       "      <td>...</td>\n",
       "      <td>0</td>\n",
       "      <td>0</td>\n",
       "      <td>0</td>\n",
       "      <td>0</td>\n",
       "      <td>0</td>\n",
       "      <td>0</td>\n",
       "      <td>1</td>\n",
       "      <td>0</td>\n",
       "      <td>0</td>\n",
       "      <td>12</td>\n",
       "    </tr>\n",
       "    <tr>\n",
       "      <th>2</th>\n",
       "      <td>3</td>\n",
       "      <td>4</td>\n",
       "      <td>620</td>\n",
       "      <td>750</td>\n",
       "      <td>WN</td>\n",
       "      <td>448</td>\n",
       "      <td>90</td>\n",
       "      <td>IND</td>\n",
       "      <td>BWI</td>\n",
       "      <td>515</td>\n",
       "      <td>...</td>\n",
       "      <td>0</td>\n",
       "      <td>0</td>\n",
       "      <td>0</td>\n",
       "      <td>0</td>\n",
       "      <td>0</td>\n",
       "      <td>0</td>\n",
       "      <td>0</td>\n",
       "      <td>0</td>\n",
       "      <td>0</td>\n",
       "      <td>12</td>\n",
       "    </tr>\n",
       "    <tr>\n",
       "      <th>3</th>\n",
       "      <td>3</td>\n",
       "      <td>4</td>\n",
       "      <td>930</td>\n",
       "      <td>1100</td>\n",
       "      <td>WN</td>\n",
       "      <td>1746</td>\n",
       "      <td>90</td>\n",
       "      <td>IND</td>\n",
       "      <td>BWI</td>\n",
       "      <td>515</td>\n",
       "      <td>...</td>\n",
       "      <td>0</td>\n",
       "      <td>0</td>\n",
       "      <td>0</td>\n",
       "      <td>0</td>\n",
       "      <td>0</td>\n",
       "      <td>0</td>\n",
       "      <td>0</td>\n",
       "      <td>0</td>\n",
       "      <td>0</td>\n",
       "      <td>12</td>\n",
       "    </tr>\n",
       "    <tr>\n",
       "      <th>4</th>\n",
       "      <td>3</td>\n",
       "      <td>4</td>\n",
       "      <td>1755</td>\n",
       "      <td>1925</td>\n",
       "      <td>WN</td>\n",
       "      <td>3920</td>\n",
       "      <td>90</td>\n",
       "      <td>IND</td>\n",
       "      <td>BWI</td>\n",
       "      <td>515</td>\n",
       "      <td>...</td>\n",
       "      <td>0</td>\n",
       "      <td>0</td>\n",
       "      <td>0</td>\n",
       "      <td>0</td>\n",
       "      <td>0</td>\n",
       "      <td>0</td>\n",
       "      <td>0</td>\n",
       "      <td>0</td>\n",
       "      <td>0</td>\n",
       "      <td>12</td>\n",
       "    </tr>\n",
       "    <tr>\n",
       "      <th>...</th>\n",
       "      <td>...</td>\n",
       "      <td>...</td>\n",
       "      <td>...</td>\n",
       "      <td>...</td>\n",
       "      <td>...</td>\n",
       "      <td>...</td>\n",
       "      <td>...</td>\n",
       "      <td>...</td>\n",
       "      <td>...</td>\n",
       "      <td>...</td>\n",
       "      <td>...</td>\n",
       "      <td>...</td>\n",
       "      <td>...</td>\n",
       "      <td>...</td>\n",
       "      <td>...</td>\n",
       "      <td>...</td>\n",
       "      <td>...</td>\n",
       "      <td>...</td>\n",
       "      <td>...</td>\n",
       "      <td>...</td>\n",
       "      <td>...</td>\n",
       "    </tr>\n",
       "    <tr>\n",
       "      <th>99994</th>\n",
       "      <td>24</td>\n",
       "      <td>4</td>\n",
       "      <td>1935</td>\n",
       "      <td>2257</td>\n",
       "      <td>XE</td>\n",
       "      <td>7676</td>\n",
       "      <td>142</td>\n",
       "      <td>SLC</td>\n",
       "      <td>OKC</td>\n",
       "      <td>866</td>\n",
       "      <td>...</td>\n",
       "      <td>0</td>\n",
       "      <td>0</td>\n",
       "      <td>0</td>\n",
       "      <td>0</td>\n",
       "      <td>0</td>\n",
       "      <td>0</td>\n",
       "      <td>0</td>\n",
       "      <td>0</td>\n",
       "      <td>0</td>\n",
       "      <td>12</td>\n",
       "    </tr>\n",
       "    <tr>\n",
       "      <th>99995</th>\n",
       "      <td>25</td>\n",
       "      <td>5</td>\n",
       "      <td>1935</td>\n",
       "      <td>2257</td>\n",
       "      <td>XE</td>\n",
       "      <td>7676</td>\n",
       "      <td>142</td>\n",
       "      <td>SLC</td>\n",
       "      <td>OKC</td>\n",
       "      <td>866</td>\n",
       "      <td>...</td>\n",
       "      <td>0</td>\n",
       "      <td>0</td>\n",
       "      <td>0</td>\n",
       "      <td>0</td>\n",
       "      <td>0</td>\n",
       "      <td>0</td>\n",
       "      <td>0</td>\n",
       "      <td>0</td>\n",
       "      <td>0</td>\n",
       "      <td>12</td>\n",
       "    </tr>\n",
       "    <tr>\n",
       "      <th>99996</th>\n",
       "      <td>26</td>\n",
       "      <td>6</td>\n",
       "      <td>1935</td>\n",
       "      <td>2257</td>\n",
       "      <td>XE</td>\n",
       "      <td>7676</td>\n",
       "      <td>142</td>\n",
       "      <td>SLC</td>\n",
       "      <td>OKC</td>\n",
       "      <td>866</td>\n",
       "      <td>...</td>\n",
       "      <td>0</td>\n",
       "      <td>0</td>\n",
       "      <td>0</td>\n",
       "      <td>0</td>\n",
       "      <td>0</td>\n",
       "      <td>0</td>\n",
       "      <td>0</td>\n",
       "      <td>0</td>\n",
       "      <td>0</td>\n",
       "      <td>12</td>\n",
       "    </tr>\n",
       "    <tr>\n",
       "      <th>99997</th>\n",
       "      <td>27</td>\n",
       "      <td>7</td>\n",
       "      <td>1935</td>\n",
       "      <td>2257</td>\n",
       "      <td>XE</td>\n",
       "      <td>7676</td>\n",
       "      <td>142</td>\n",
       "      <td>SLC</td>\n",
       "      <td>OKC</td>\n",
       "      <td>866</td>\n",
       "      <td>...</td>\n",
       "      <td>0</td>\n",
       "      <td>0</td>\n",
       "      <td>0</td>\n",
       "      <td>0</td>\n",
       "      <td>0</td>\n",
       "      <td>0</td>\n",
       "      <td>0</td>\n",
       "      <td>0</td>\n",
       "      <td>0</td>\n",
       "      <td>12</td>\n",
       "    </tr>\n",
       "    <tr>\n",
       "      <th>99998</th>\n",
       "      <td>28</td>\n",
       "      <td>1</td>\n",
       "      <td>1935</td>\n",
       "      <td>2257</td>\n",
       "      <td>XE</td>\n",
       "      <td>7676</td>\n",
       "      <td>142</td>\n",
       "      <td>SLC</td>\n",
       "      <td>OKC</td>\n",
       "      <td>866</td>\n",
       "      <td>...</td>\n",
       "      <td>0</td>\n",
       "      <td>0</td>\n",
       "      <td>0</td>\n",
       "      <td>0</td>\n",
       "      <td>0</td>\n",
       "      <td>0</td>\n",
       "      <td>0</td>\n",
       "      <td>0</td>\n",
       "      <td>0</td>\n",
       "      <td>12</td>\n",
       "    </tr>\n",
       "  </tbody>\n",
       "</table>\n",
       "<p>99999 rows × 152 columns</p>\n",
       "</div>"
      ],
      "text/plain": [
       "       DayofMonth  DayOfWeek  CRSDepTime  CRSArrTime UniqueCarrier  FlightNum  \\\n",
       "0               3          4        1955        2225            WN        335   \n",
       "1               3          4         735        1000            WN       3231   \n",
       "2               3          4         620         750            WN        448   \n",
       "3               3          4         930        1100            WN       1746   \n",
       "4               3          4        1755        1925            WN       3920   \n",
       "...           ...        ...         ...         ...           ...        ...   \n",
       "99994          24          4        1935        2257            XE       7676   \n",
       "99995          25          5        1935        2257            XE       7676   \n",
       "99996          26          6        1935        2257            XE       7676   \n",
       "99997          27          7        1935        2257            XE       7676   \n",
       "99998          28          1        1935        2257            XE       7676   \n",
       "\n",
       "       CRSElapsedTime Origin Dest  Distance  ...  is__SFO  is__SJC  is__SLC  \\\n",
       "0                 150    IAD  TPA       810  ...        0        0        0   \n",
       "1                 145    IAD  TPA       810  ...        0        0        0   \n",
       "2                  90    IND  BWI       515  ...        0        0        0   \n",
       "3                  90    IND  BWI       515  ...        0        0        0   \n",
       "4                  90    IND  BWI       515  ...        0        0        0   \n",
       "...               ...    ...  ...       ...  ...      ...      ...      ...   \n",
       "99994             142    SLC  OKC       866  ...        0        0        0   \n",
       "99995             142    SLC  OKC       866  ...        0        0        0   \n",
       "99996             142    SLC  OKC       866  ...        0        0        0   \n",
       "99997             142    SLC  OKC       866  ...        0        0        0   \n",
       "99998             142    SLC  OKC       866  ...        0        0        0   \n",
       "\n",
       "       is__SMF  is__SNA  is__STL  is__TPA  is__TUL  is__TUS  is_Dest_Rare  \n",
       "0            0        0        0        1        0        0            12  \n",
       "1            0        0        0        1        0        0            12  \n",
       "2            0        0        0        0        0        0            12  \n",
       "3            0        0        0        0        0        0            12  \n",
       "4            0        0        0        0        0        0            12  \n",
       "...        ...      ...      ...      ...      ...      ...           ...  \n",
       "99994        0        0        0        0        0        0            12  \n",
       "99995        0        0        0        0        0        0            12  \n",
       "99996        0        0        0        0        0        0            12  \n",
       "99997        0        0        0        0        0        0            12  \n",
       "99998        0        0        0        0        0        0            12  \n",
       "\n",
       "[99999 rows x 152 columns]"
      ]
     },
     "execution_count": 440,
     "metadata": {},
     "output_type": "execute_result"
    }
   ],
   "source": [
    "# data"
   ]
  },
  {
   "cell_type": "code",
   "execution_count": 403,
   "metadata": {},
   "outputs": [],
   "source": [
    "# for col in data.columns:\n",
    "#     if data[col].dtype == 'object':\n",
    "#         data = data.drop([col], axis=1) # Выбираем категориальные признаки"
   ]
  },
  {
   "cell_type": "code",
   "execution_count": 445,
   "metadata": {},
   "outputs": [
    {
     "data": {
      "text/plain": [
       "0        13\n",
       "1        13\n",
       "2        13\n",
       "3        13\n",
       "4        13\n",
       "         ..\n",
       "99994    13\n",
       "99995    13\n",
       "99996    13\n",
       "99997    13\n",
       "99998    13\n",
       "Name: is_Origin_Rare, Length: 99999, dtype: int64"
      ]
     },
     "execution_count": 445,
     "metadata": {},
     "output_type": "execute_result"
    }
   ],
   "source": [
    "# data['is_Origin_Rare']"
   ]
  },
  {
   "cell_type": "code",
   "execution_count": 406,
   "metadata": {},
   "outputs": [],
   "source": [
    "# data_makeinput = data.copy()\n",
    "# for col in data.columns:\n",
    "#     if data_makeinput[col].dtype == 'object': # Выбираем категориальные признаки\n",
    "#         a=data_makeinput.groupby(col,as_index=False)['Distance'].count()\n",
    "\n",
    "#         Rare = a[a['Distance']<=50][col]\n"
   ]
  },
  {
   "cell_type": "code",
   "execution_count": 524,
   "metadata": {},
   "outputs": [],
   "source": [
    "tdf=data.copy()\n",
    "for col in data.columns:\n",
    "    if tdf[col].dtype == 'object': # Выбираем категориальные признаки\n",
    "        a=tdf.groupby(col,as_index=False)['Distance'].count()\n",
    "\n",
    "        Rare = a[a['Distance']<=50][col]\n",
    "        for i in Rare:\n",
    "          tdf[col]=tdf[col].replace(i,\"Rare_\"+col)\n",
    "        tdf = pd.concat([tdf, pd.get_dummies(tdf[col], prefix='Is')] , axis=1)\n",
    "        tdf=tdf.drop(columns=[col])\n",
    "data = tdf"
   ]
  },
  {
   "cell_type": "code",
   "execution_count": 525,
   "metadata": {},
   "outputs": [
    {
     "data": {
      "text/html": [
       "<div>\n",
       "<style scoped>\n",
       "    .dataframe tbody tr th:only-of-type {\n",
       "        vertical-align: middle;\n",
       "    }\n",
       "\n",
       "    .dataframe tbody tr th {\n",
       "        vertical-align: top;\n",
       "    }\n",
       "\n",
       "    .dataframe thead th {\n",
       "        text-align: right;\n",
       "    }\n",
       "</style>\n",
       "<table border=\"1\" class=\"dataframe\">\n",
       "  <thead>\n",
       "    <tr style=\"text-align: right;\">\n",
       "      <th></th>\n",
       "      <th>DayofMonth</th>\n",
       "      <th>DayOfWeek</th>\n",
       "      <th>CRSDepTime</th>\n",
       "      <th>CRSArrTime</th>\n",
       "      <th>FlightNum</th>\n",
       "      <th>CRSElapsedTime</th>\n",
       "      <th>Distance</th>\n",
       "      <th>Is_WN</th>\n",
       "      <th>Is_XE</th>\n",
       "      <th>Is_ABQ</th>\n",
       "      <th>...</th>\n",
       "      <th>Is_SEA</th>\n",
       "      <th>Is_SFO</th>\n",
       "      <th>Is_SJC</th>\n",
       "      <th>Is_SLC</th>\n",
       "      <th>Is_SMF</th>\n",
       "      <th>Is_SNA</th>\n",
       "      <th>Is_STL</th>\n",
       "      <th>Is_TPA</th>\n",
       "      <th>Is_TUL</th>\n",
       "      <th>Is_TUS</th>\n",
       "    </tr>\n",
       "  </thead>\n",
       "  <tbody>\n",
       "    <tr>\n",
       "      <th>0</th>\n",
       "      <td>3</td>\n",
       "      <td>4</td>\n",
       "      <td>1955</td>\n",
       "      <td>2225</td>\n",
       "      <td>335</td>\n",
       "      <td>150</td>\n",
       "      <td>810</td>\n",
       "      <td>True</td>\n",
       "      <td>False</td>\n",
       "      <td>False</td>\n",
       "      <td>...</td>\n",
       "      <td>False</td>\n",
       "      <td>False</td>\n",
       "      <td>False</td>\n",
       "      <td>False</td>\n",
       "      <td>False</td>\n",
       "      <td>False</td>\n",
       "      <td>False</td>\n",
       "      <td>True</td>\n",
       "      <td>False</td>\n",
       "      <td>False</td>\n",
       "    </tr>\n",
       "    <tr>\n",
       "      <th>1</th>\n",
       "      <td>3</td>\n",
       "      <td>4</td>\n",
       "      <td>735</td>\n",
       "      <td>1000</td>\n",
       "      <td>3231</td>\n",
       "      <td>145</td>\n",
       "      <td>810</td>\n",
       "      <td>True</td>\n",
       "      <td>False</td>\n",
       "      <td>False</td>\n",
       "      <td>...</td>\n",
       "      <td>False</td>\n",
       "      <td>False</td>\n",
       "      <td>False</td>\n",
       "      <td>False</td>\n",
       "      <td>False</td>\n",
       "      <td>False</td>\n",
       "      <td>False</td>\n",
       "      <td>True</td>\n",
       "      <td>False</td>\n",
       "      <td>False</td>\n",
       "    </tr>\n",
       "    <tr>\n",
       "      <th>2</th>\n",
       "      <td>3</td>\n",
       "      <td>4</td>\n",
       "      <td>620</td>\n",
       "      <td>750</td>\n",
       "      <td>448</td>\n",
       "      <td>90</td>\n",
       "      <td>515</td>\n",
       "      <td>True</td>\n",
       "      <td>False</td>\n",
       "      <td>False</td>\n",
       "      <td>...</td>\n",
       "      <td>False</td>\n",
       "      <td>False</td>\n",
       "      <td>False</td>\n",
       "      <td>False</td>\n",
       "      <td>False</td>\n",
       "      <td>False</td>\n",
       "      <td>False</td>\n",
       "      <td>False</td>\n",
       "      <td>False</td>\n",
       "      <td>False</td>\n",
       "    </tr>\n",
       "    <tr>\n",
       "      <th>3</th>\n",
       "      <td>3</td>\n",
       "      <td>4</td>\n",
       "      <td>930</td>\n",
       "      <td>1100</td>\n",
       "      <td>1746</td>\n",
       "      <td>90</td>\n",
       "      <td>515</td>\n",
       "      <td>True</td>\n",
       "      <td>False</td>\n",
       "      <td>False</td>\n",
       "      <td>...</td>\n",
       "      <td>False</td>\n",
       "      <td>False</td>\n",
       "      <td>False</td>\n",
       "      <td>False</td>\n",
       "      <td>False</td>\n",
       "      <td>False</td>\n",
       "      <td>False</td>\n",
       "      <td>False</td>\n",
       "      <td>False</td>\n",
       "      <td>False</td>\n",
       "    </tr>\n",
       "    <tr>\n",
       "      <th>4</th>\n",
       "      <td>3</td>\n",
       "      <td>4</td>\n",
       "      <td>1755</td>\n",
       "      <td>1925</td>\n",
       "      <td>3920</td>\n",
       "      <td>90</td>\n",
       "      <td>515</td>\n",
       "      <td>True</td>\n",
       "      <td>False</td>\n",
       "      <td>False</td>\n",
       "      <td>...</td>\n",
       "      <td>False</td>\n",
       "      <td>False</td>\n",
       "      <td>False</td>\n",
       "      <td>False</td>\n",
       "      <td>False</td>\n",
       "      <td>False</td>\n",
       "      <td>False</td>\n",
       "      <td>False</td>\n",
       "      <td>False</td>\n",
       "      <td>False</td>\n",
       "    </tr>\n",
       "    <tr>\n",
       "      <th>...</th>\n",
       "      <td>...</td>\n",
       "      <td>...</td>\n",
       "      <td>...</td>\n",
       "      <td>...</td>\n",
       "      <td>...</td>\n",
       "      <td>...</td>\n",
       "      <td>...</td>\n",
       "      <td>...</td>\n",
       "      <td>...</td>\n",
       "      <td>...</td>\n",
       "      <td>...</td>\n",
       "      <td>...</td>\n",
       "      <td>...</td>\n",
       "      <td>...</td>\n",
       "      <td>...</td>\n",
       "      <td>...</td>\n",
       "      <td>...</td>\n",
       "      <td>...</td>\n",
       "      <td>...</td>\n",
       "      <td>...</td>\n",
       "      <td>...</td>\n",
       "    </tr>\n",
       "    <tr>\n",
       "      <th>99994</th>\n",
       "      <td>24</td>\n",
       "      <td>4</td>\n",
       "      <td>1935</td>\n",
       "      <td>2257</td>\n",
       "      <td>7676</td>\n",
       "      <td>142</td>\n",
       "      <td>866</td>\n",
       "      <td>False</td>\n",
       "      <td>True</td>\n",
       "      <td>False</td>\n",
       "      <td>...</td>\n",
       "      <td>False</td>\n",
       "      <td>False</td>\n",
       "      <td>False</td>\n",
       "      <td>False</td>\n",
       "      <td>False</td>\n",
       "      <td>False</td>\n",
       "      <td>False</td>\n",
       "      <td>False</td>\n",
       "      <td>False</td>\n",
       "      <td>False</td>\n",
       "    </tr>\n",
       "    <tr>\n",
       "      <th>99995</th>\n",
       "      <td>25</td>\n",
       "      <td>5</td>\n",
       "      <td>1935</td>\n",
       "      <td>2257</td>\n",
       "      <td>7676</td>\n",
       "      <td>142</td>\n",
       "      <td>866</td>\n",
       "      <td>False</td>\n",
       "      <td>True</td>\n",
       "      <td>False</td>\n",
       "      <td>...</td>\n",
       "      <td>False</td>\n",
       "      <td>False</td>\n",
       "      <td>False</td>\n",
       "      <td>False</td>\n",
       "      <td>False</td>\n",
       "      <td>False</td>\n",
       "      <td>False</td>\n",
       "      <td>False</td>\n",
       "      <td>False</td>\n",
       "      <td>False</td>\n",
       "    </tr>\n",
       "    <tr>\n",
       "      <th>99996</th>\n",
       "      <td>26</td>\n",
       "      <td>6</td>\n",
       "      <td>1935</td>\n",
       "      <td>2257</td>\n",
       "      <td>7676</td>\n",
       "      <td>142</td>\n",
       "      <td>866</td>\n",
       "      <td>False</td>\n",
       "      <td>True</td>\n",
       "      <td>False</td>\n",
       "      <td>...</td>\n",
       "      <td>False</td>\n",
       "      <td>False</td>\n",
       "      <td>False</td>\n",
       "      <td>False</td>\n",
       "      <td>False</td>\n",
       "      <td>False</td>\n",
       "      <td>False</td>\n",
       "      <td>False</td>\n",
       "      <td>False</td>\n",
       "      <td>False</td>\n",
       "    </tr>\n",
       "    <tr>\n",
       "      <th>99997</th>\n",
       "      <td>27</td>\n",
       "      <td>7</td>\n",
       "      <td>1935</td>\n",
       "      <td>2257</td>\n",
       "      <td>7676</td>\n",
       "      <td>142</td>\n",
       "      <td>866</td>\n",
       "      <td>False</td>\n",
       "      <td>True</td>\n",
       "      <td>False</td>\n",
       "      <td>...</td>\n",
       "      <td>False</td>\n",
       "      <td>False</td>\n",
       "      <td>False</td>\n",
       "      <td>False</td>\n",
       "      <td>False</td>\n",
       "      <td>False</td>\n",
       "      <td>False</td>\n",
       "      <td>False</td>\n",
       "      <td>False</td>\n",
       "      <td>False</td>\n",
       "    </tr>\n",
       "    <tr>\n",
       "      <th>99998</th>\n",
       "      <td>28</td>\n",
       "      <td>1</td>\n",
       "      <td>1935</td>\n",
       "      <td>2257</td>\n",
       "      <td>7676</td>\n",
       "      <td>142</td>\n",
       "      <td>866</td>\n",
       "      <td>False</td>\n",
       "      <td>True</td>\n",
       "      <td>False</td>\n",
       "      <td>...</td>\n",
       "      <td>False</td>\n",
       "      <td>False</td>\n",
       "      <td>False</td>\n",
       "      <td>False</td>\n",
       "      <td>False</td>\n",
       "      <td>False</td>\n",
       "      <td>False</td>\n",
       "      <td>False</td>\n",
       "      <td>False</td>\n",
       "      <td>False</td>\n",
       "    </tr>\n",
       "  </tbody>\n",
       "</table>\n",
       "<p>99999 rows × 149 columns</p>\n",
       "</div>"
      ],
      "text/plain": [
       "       DayofMonth  DayOfWeek  CRSDepTime  CRSArrTime  FlightNum  \\\n",
       "0               3          4        1955        2225        335   \n",
       "1               3          4         735        1000       3231   \n",
       "2               3          4         620         750        448   \n",
       "3               3          4         930        1100       1746   \n",
       "4               3          4        1755        1925       3920   \n",
       "...           ...        ...         ...         ...        ...   \n",
       "99994          24          4        1935        2257       7676   \n",
       "99995          25          5        1935        2257       7676   \n",
       "99996          26          6        1935        2257       7676   \n",
       "99997          27          7        1935        2257       7676   \n",
       "99998          28          1        1935        2257       7676   \n",
       "\n",
       "       CRSElapsedTime  Distance  Is_WN  Is_XE  Is_ABQ  ...  Is_SEA  Is_SFO  \\\n",
       "0                 150       810   True  False   False  ...   False   False   \n",
       "1                 145       810   True  False   False  ...   False   False   \n",
       "2                  90       515   True  False   False  ...   False   False   \n",
       "3                  90       515   True  False   False  ...   False   False   \n",
       "4                  90       515   True  False   False  ...   False   False   \n",
       "...               ...       ...    ...    ...     ...  ...     ...     ...   \n",
       "99994             142       866  False   True   False  ...   False   False   \n",
       "99995             142       866  False   True   False  ...   False   False   \n",
       "99996             142       866  False   True   False  ...   False   False   \n",
       "99997             142       866  False   True   False  ...   False   False   \n",
       "99998             142       866  False   True   False  ...   False   False   \n",
       "\n",
       "       Is_SJC  Is_SLC  Is_SMF  Is_SNA  Is_STL  Is_TPA  Is_TUL  Is_TUS  \n",
       "0       False   False   False   False   False    True   False   False  \n",
       "1       False   False   False   False   False    True   False   False  \n",
       "2       False   False   False   False   False   False   False   False  \n",
       "3       False   False   False   False   False   False   False   False  \n",
       "4       False   False   False   False   False   False   False   False  \n",
       "...       ...     ...     ...     ...     ...     ...     ...     ...  \n",
       "99994   False   False   False   False   False   False   False   False  \n",
       "99995   False   False   False   False   False   False   False   False  \n",
       "99996   False   False   False   False   False   False   False   False  \n",
       "99997   False   False   False   False   False   False   False   False  \n",
       "99998   False   False   False   False   False   False   False   False  \n",
       "\n",
       "[99999 rows x 149 columns]"
      ]
     },
     "execution_count": 525,
     "metadata": {},
     "output_type": "execute_result"
    }
   ],
   "source": [
    "data"
   ]
  },
  {
   "cell_type": "markdown",
   "metadata": {},
   "source": [
    "Заполните отсутствующие значения на своё усмторение"
   ]
  },
  {
   "cell_type": "code",
   "execution_count": null,
   "metadata": {},
   "outputs": [],
   "source": [
    "#Мне лень, я после хакатона и сейчас 23:14 и я все равно буду использовать градиентный бустинг"
   ]
  },
  {
   "cell_type": "markdown",
   "metadata": {},
   "source": [
    "Отшкалируйте (стандартизируйте) данные"
   ]
  },
  {
   "cell_type": "code",
   "execution_count": null,
   "metadata": {},
   "outputs": [],
   "source": [
    "X = data.values.astype('float32')\n",
    "X = <...>"
   ]
  },
  {
   "cell_type": "code",
   "execution_count": null,
   "metadata": {},
   "outputs": [],
   "source": [
    "assert np.isfinite(X).all()"
   ]
  },
  {
   "cell_type": "markdown",
   "metadata": {},
   "source": [
    "Разделим данные на обучающие/тестовые (НЕ ТРОГАЙТЕ ЭТУ КЛЕТКУ!)"
   ]
  },
  {
   "cell_type": "code",
   "execution_count": null,
   "metadata": {},
   "outputs": [],
   "source": [
    "np.random.seed(42)\n",
    "test_inds = np.arange(X.shape[0])\n",
    "np.random.shuffle(test_inds)\n",
    "\n",
    "test_inds = test_inds[:1000]\n",
    "\n",
    "is_test = np.zeros(X.shape[0], dtype='bool')\n",
    "is_test[test_inds] = True\n",
    "\n",
    "X_train = X[~is_test]\n",
    "X_test = X[is_test]\n",
    "y_train = y[~is_test]\n",
    "y_test = y[is_test]\n",
    "y_regression_train = y_regression[~is_test]\n",
    "y_regression_test = y_regression[is_test]\n"
   ]
  },
  {
   "cell_type": "markdown",
   "metadata": {},
   "source": [
    "Обучите несколько моделей, предсказыаающих ```y```"
   ]
  },
  {
   "cell_type": "code",
   "execution_count": null,
   "metadata": {},
   "outputs": [],
   "source": [
    "from sklearn import <...>"
   ]
  },
  {
   "cell_type": "code",
   "execution_count": null,
   "metadata": {},
   "outputs": [],
   "source": [
    "<...>"
   ]
  },
  {
   "cell_type": "markdown",
   "metadata": {},
   "source": [
    "Какие метрики измерения качества классификации вы знаете? Что можно сказать об их применимости к данной задаче?"
   ]
  },
  {
   "cell_type": "markdown",
   "metadata": {},
   "source": [
    "```ВАШ ОТВЕТ```"
   ]
  },
  {
   "cell_type": "markdown",
   "metadata": {},
   "source": [
    "Постройте ROC кривые для обученных моделей. Вычислите roc_auc для этих моделей.\n",
    "\n",
    "Подсказка: можете использовать sklearn.metrics"
   ]
  },
  {
   "cell_type": "code",
   "execution_count": null,
   "metadata": {},
   "outputs": [],
   "source": [
    "import matplotlib.pyplot as plt\n",
    "%matplotlib inline "
   ]
  },
  {
   "cell_type": "code",
   "execution_count": null,
   "metadata": {},
   "outputs": [],
   "source": [
    "<...>"
   ]
  },
  {
   "cell_type": "markdown",
   "metadata": {},
   "source": [
    "Продолжайте обучать модели пока не получите roc_auc хотя бы 0.8 на тестовых данных"
   ]
  },
  {
   "cell_type": "markdown",
   "metadata": {},
   "source": [
    "Постройте график Precision-recall для всех моделей.\n",
    "\n",
    "Выберете модель и порог, при которых самый большой precision при recall не меньше 0.05"
   ]
  },
  {
   "cell_type": "code",
   "execution_count": null,
   "metadata": {},
   "outputs": [],
   "source": [
    "<...>"
   ]
  },
  {
   "cell_type": "markdown",
   "metadata": {},
   "source": [
    "Посмотрите на важности признаков по мнениям моделей. Что можно сказать? В каких аэропортах больше всего отменяют рейсы? А в каких меньше?"
   ]
  },
  {
   "cell_type": "code",
   "execution_count": null,
   "metadata": {},
   "outputs": [],
   "source": [
    "<...>"
   ]
  },
  {
   "cell_type": "markdown",
   "metadata": {},
   "source": [
    "Обучите модели для регрессии ```y_regression``` (Почти для каждой модели классификации есть аналогичная модель регрессии)"
   ]
  },
  {
   "cell_type": "code",
   "execution_count": null,
   "metadata": {},
   "outputs": [],
   "source": [
    "from sklearn import <...>"
   ]
  },
  {
   "cell_type": "code",
   "execution_count": null,
   "metadata": {},
   "outputs": [],
   "source": [
    "<...>"
   ]
  },
  {
   "cell_type": "markdown",
   "metadata": {},
   "source": [
    "Посчитайте MSE для каждой модели. Какая работает лучше всего?"
   ]
  },
  {
   "cell_type": "code",
   "execution_count": null,
   "metadata": {},
   "outputs": [],
   "source": [
    "<...>"
   ]
  },
  {
   "cell_type": "markdown",
   "metadata": {},
   "source": [
    "Получите MSE как минимум 200"
   ]
  }
 ],
 "metadata": {
  "kernelspec": {
   "display_name": "venv",
   "language": "python",
   "name": "python3"
  },
  "language_info": {
   "codemirror_mode": {
    "name": "ipython",
    "version": 3
   },
   "file_extension": ".py",
   "mimetype": "text/x-python",
   "name": "python",
   "nbconvert_exporter": "python",
   "pygments_lexer": "ipython3",
   "version": "3.12.2"
  }
 },
 "nbformat": 4,
 "nbformat_minor": 2
}
