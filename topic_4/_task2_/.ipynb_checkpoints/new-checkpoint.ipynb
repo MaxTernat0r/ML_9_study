{
 "cells": [
  {
   "cell_type": "markdown",
   "metadata": {},
   "source": [
    "Разбейте данные на обучающую и проверочную выборку (3 балла).\n",
    "Постройте дерево на обучающей выборке и проверьте качество на проверочной (метрика accuracy) (5 баллов).\n",
    "Попробуйте применить регуляризацию, чтобы повысить качество на проверочной выборке. Проверьте разные значения для параметров и найдите оптимальный вариант (5 баллов).\n",
    "Попробуйте использовать случайный лес и сравните качество с регуляризованным деревом (5 баллов).\n",
    "Изменяйте параметры случайного леса, чтобы получить оптимальный результат (5 баллов)."
   ]
  },
  {
   "cell_type": "code",
   "execution_count": 31,
   "metadata": {},
   "outputs": [
    {
     "name": "stdout",
     "output_type": "stream",
     "text": [
      "Лучшее ОГР по состоянию: 0, лучшее кол-во деревьев: 0, точность на обучающей выборке: 0.8764044943820225, точность на проверочной выборке: 0\n"
     ]
    },
    {
     "name": "stderr",
     "output_type": "stream",
     "text": [
      "C:\\Users\\SystemX\\AppData\\Local\\Temp\\ipykernel_24024\\977062743.py:14: FutureWarning: Downcasting behavior in `replace` is deprecated and will be removed in a future version. To retain the old behavior, explicitly call `result.infer_objects(copy=False)`. To opt-in to the future behavior, set `pd.set_option('future.no_silent_downcasting', True)`\n",
      "  data = data.replace('female', 1)\n"
     ]
    }
   ],
   "source": [
    "from sklearn.model_selection import train_test_split\n",
    "from sklearn.datasets import load_diabetes\n",
    "from sklearn.linear_model import LinearRegression\n",
    "from sklearn.metrics import mean_squared_error\n",
    "from sklearn.preprocessing import StandardScaler\n",
    "from sklearn.tree import DecisionTreeClassifier\n",
    "from sklearn.metrics import accuracy_score\n",
    "from sklearn.ensemble import RandomForestClassifier\n",
    "import matplotlib.pyplot as plt\n",
    "import pandas as pd\n",
    "import csv\n",
    "data = pd.read_csv('train.csv')\n",
    "data = data.replace('male', 0)\n",
    "data = data.replace('female', 1)\n",
    "\n",
    "X = data[['Pclass', 'Sex', 'Age', 'SibSp', 'Parch', 'Fare']]\n",
    "y = data['Survived']\n",
    "\n",
    "X_train, X_test, y_train, y_test = train_test_split(X, y, random_state=1, test_size=0.3)\n",
    "\n",
    "best_result = 0\n",
    "best_learn = 0\n",
    "best_random_state = 0\n",
    "best_n_estimators = 0\n",
    "\n",
    "#for i in range(10, 20):\n",
    "#    for j in range(10, 20):\n",
    "#        for k in range(10, 20):\n",
    "#            for l in range(10, 20):\n",
    "forest = RandomForestClassifier(random_state=2, n_estimators=3, min_samples_leaf=3, max_depth=7, n_jobs=-1)\n",
    "forest.fit(X_train, y_train)\n",
    "y_predicted_train = forest.predict(X_train)\n",
    "y_predicted_test = forest.predict(X_test)\n",
    "#if accuracy_score(y_test, y_predicted_test) > best_result:\n",
    "#    best_result = accuracy_score(y_test, y_predicted_test)\n",
    "#    best_learn = accuracy_score(y_train, y_predicted_train)\n",
    "#    best_random_state = i\n",
    "#    best_n_estimators = j\n",
    "print(f'Лучшее ОГР по состоянию: {best_random_state}, лучшее кол-во деревьев: {best_n_estimators}, точность на обучающей выборке: {accuracy_score(y_train, y_predicted_train)}, точность на проверочной выборке: {accuracy_score(y_test, y_predicted_test)}')"
   ]
  },
  {
   "cell_type": "code",
   "execution_count": null,
   "metadata": {},
   "outputs": [],
   "source": []
  }
 ],
 "metadata": {
  "kernelspec": {
   "display_name": "Python 3 (ipykernel)",
   "language": "python",
   "name": "python3"
  },
  "language_info": {
   "codemirror_mode": {
    "name": "ipython",
    "version": 3
   },
   "file_extension": ".py",
   "mimetype": "text/x-python",
   "name": "python",
   "nbconvert_exporter": "python",
   "pygments_lexer": "ipython3",
   "version": "3.12.2"
  }
 },
 "nbformat": 4,
 "nbformat_minor": 4
}
