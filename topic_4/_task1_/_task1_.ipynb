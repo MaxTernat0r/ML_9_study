{
 "cells": [
  {
   "cell_type": "code",
   "execution_count": 98,
   "id": "0c59ce04-94c2-4105-b05f-59b8e76b539b",
   "metadata": {},
   "outputs": [],
   "source": [
    "from sklearn.model_selection import train_test_split\n",
    "from sklearn.datasets import load_diabetes\n",
    "from sklearn.linear_model import LinearRegression\n",
    "from sklearn.metrics import mean_squared_error\n",
    "from sklearn.preprocessing import StandardScaler\n",
    "from sklearn.tree import DecisionTreeClassifier\n",
    "from sklearn.metrics import accuracy_score\n",
    "from sklearn.ensemble import RandomForestClassifier\n",
    "import matplotlib.pyplot as plt\n",
    "import csv"
   ]
  },
  {
   "cell_type": "code",
   "execution_count": 60,
   "id": "be866637-8e80-4e3d-a7f6-65554a3be59c",
   "metadata": {},
   "outputs": [],
   "source": [
    "data = pd.read_csv('train.csv')"
   ]
  },
  {
   "cell_type": "code",
   "execution_count": 61,
   "id": "b55d1212-34b1-4c54-b1d3-45d0a314e588",
   "metadata": {},
   "outputs": [
    {
     "data": {
      "text/html": [
       "<div>\n",
       "<style scoped>\n",
       "    .dataframe tbody tr th:only-of-type {\n",
       "        vertical-align: middle;\n",
       "    }\n",
       "\n",
       "    .dataframe tbody tr th {\n",
       "        vertical-align: top;\n",
       "    }\n",
       "\n",
       "    .dataframe thead th {\n",
       "        text-align: right;\n",
       "    }\n",
       "</style>\n",
       "<table border=\"1\" class=\"dataframe\">\n",
       "  <thead>\n",
       "    <tr style=\"text-align: right;\">\n",
       "      <th></th>\n",
       "      <th>PassengerId</th>\n",
       "      <th>Survived</th>\n",
       "      <th>Pclass</th>\n",
       "      <th>Name</th>\n",
       "      <th>Sex</th>\n",
       "      <th>Age</th>\n",
       "      <th>SibSp</th>\n",
       "      <th>Parch</th>\n",
       "      <th>Ticket</th>\n",
       "      <th>Fare</th>\n",
       "      <th>Cabin</th>\n",
       "      <th>Embarked</th>\n",
       "    </tr>\n",
       "  </thead>\n",
       "  <tbody>\n",
       "    <tr>\n",
       "      <th>0</th>\n",
       "      <td>1</td>\n",
       "      <td>0</td>\n",
       "      <td>3</td>\n",
       "      <td>Braund, Mr. Owen Harris</td>\n",
       "      <td>male</td>\n",
       "      <td>22.0</td>\n",
       "      <td>1</td>\n",
       "      <td>0</td>\n",
       "      <td>A/5 21171</td>\n",
       "      <td>7.2500</td>\n",
       "      <td>NaN</td>\n",
       "      <td>S</td>\n",
       "    </tr>\n",
       "    <tr>\n",
       "      <th>1</th>\n",
       "      <td>2</td>\n",
       "      <td>1</td>\n",
       "      <td>1</td>\n",
       "      <td>Cumings, Mrs. John Bradley (Florence Briggs Th...</td>\n",
       "      <td>female</td>\n",
       "      <td>38.0</td>\n",
       "      <td>1</td>\n",
       "      <td>0</td>\n",
       "      <td>PC 17599</td>\n",
       "      <td>71.2833</td>\n",
       "      <td>C85</td>\n",
       "      <td>C</td>\n",
       "    </tr>\n",
       "    <tr>\n",
       "      <th>2</th>\n",
       "      <td>3</td>\n",
       "      <td>1</td>\n",
       "      <td>3</td>\n",
       "      <td>Heikkinen, Miss. Laina</td>\n",
       "      <td>female</td>\n",
       "      <td>26.0</td>\n",
       "      <td>0</td>\n",
       "      <td>0</td>\n",
       "      <td>STON/O2. 3101282</td>\n",
       "      <td>7.9250</td>\n",
       "      <td>NaN</td>\n",
       "      <td>S</td>\n",
       "    </tr>\n",
       "    <tr>\n",
       "      <th>3</th>\n",
       "      <td>4</td>\n",
       "      <td>1</td>\n",
       "      <td>1</td>\n",
       "      <td>Futrelle, Mrs. Jacques Heath (Lily May Peel)</td>\n",
       "      <td>female</td>\n",
       "      <td>35.0</td>\n",
       "      <td>1</td>\n",
       "      <td>0</td>\n",
       "      <td>113803</td>\n",
       "      <td>53.1000</td>\n",
       "      <td>C123</td>\n",
       "      <td>S</td>\n",
       "    </tr>\n",
       "    <tr>\n",
       "      <th>4</th>\n",
       "      <td>5</td>\n",
       "      <td>0</td>\n",
       "      <td>3</td>\n",
       "      <td>Allen, Mr. William Henry</td>\n",
       "      <td>male</td>\n",
       "      <td>35.0</td>\n",
       "      <td>0</td>\n",
       "      <td>0</td>\n",
       "      <td>373450</td>\n",
       "      <td>8.0500</td>\n",
       "      <td>NaN</td>\n",
       "      <td>S</td>\n",
       "    </tr>\n",
       "  </tbody>\n",
       "</table>\n",
       "</div>"
      ],
      "text/plain": [
       "   PassengerId  Survived  Pclass  \\\n",
       "0            1         0       3   \n",
       "1            2         1       1   \n",
       "2            3         1       3   \n",
       "3            4         1       1   \n",
       "4            5         0       3   \n",
       "\n",
       "                                                Name     Sex   Age  SibSp  \\\n",
       "0                            Braund, Mr. Owen Harris    male  22.0      1   \n",
       "1  Cumings, Mrs. John Bradley (Florence Briggs Th...  female  38.0      1   \n",
       "2                             Heikkinen, Miss. Laina  female  26.0      0   \n",
       "3       Futrelle, Mrs. Jacques Heath (Lily May Peel)  female  35.0      1   \n",
       "4                           Allen, Mr. William Henry    male  35.0      0   \n",
       "\n",
       "   Parch            Ticket     Fare Cabin Embarked  \n",
       "0      0         A/5 21171   7.2500   NaN        S  \n",
       "1      0          PC 17599  71.2833   C85        C  \n",
       "2      0  STON/O2. 3101282   7.9250   NaN        S  \n",
       "3      0            113803  53.1000  C123        S  \n",
       "4      0            373450   8.0500   NaN        S  "
      ]
     },
     "execution_count": 61,
     "metadata": {},
     "output_type": "execute_result"
    }
   ],
   "source": [
    "data.head()"
   ]
  },
  {
   "cell_type": "code",
   "execution_count": 65,
   "id": "317bc769-07d5-4b9f-82e1-391b374aedc0",
   "metadata": {},
   "outputs": [],
   "source": [
    "data = data.replace('male', 0)\n",
    "data = data.replace('female', 1)\n",
    "X = data[['Pclass', 'Sex', 'Age', 'SibSp', 'Parch', 'Fare']]\n",
    "y = data['Survived']"
   ]
  },
  {
   "cell_type": "code",
   "execution_count": 63,
   "id": "04b7c047-c415-4212-99eb-c7b6da18f41e",
   "metadata": {},
   "outputs": [],
   "source": [
    "# ПУНКТ 1:\n",
    "# Разобьем на обучающую и проверочную выборку:\n",
    "X_train, X_test, y_train, y_test = train_test_split(X, y, random_state=42, test_size=0.3)"
   ]
  },
  {
   "cell_type": "code",
   "execution_count": 64,
   "id": "bc139f66-62fb-4e1f-bc95-46ae3a6784df",
   "metadata": {},
   "outputs": [
    {
     "name": "stdout",
     "output_type": "stream",
     "text": [
      "Точность на обучающей выборке: 0.9775280898876404\n",
      "Точность на проверочной выборке: 0.753731343283582\n"
     ]
    }
   ],
   "source": [
    "# ПУНКТ 2:\n",
    "# Обучим:\n",
    "tree = DecisionTreeClassifier()\n",
    "tree.fit(X_train, y_train)\n",
    "y_predicted_train = tree.predict(X_train)\n",
    "print(f'Точность на обучающей выборке: {accuracy_score(y_train, y_predicted_train)}')\n",
    "\n",
    "# Проверим:\n",
    "y_predicted_test = tree.predict(X_test)\n",
    "print(f'Точность на проверочной выборке: {accuracy_score(y_test, y_predicted_test)}')"
   ]
  },
  {
   "cell_type": "code",
   "execution_count": 103,
   "id": "155414b2-ca60-468f-b005-d564d3f239e7",
   "metadata": {},
   "outputs": [
    {
     "name": "stdout",
     "output_type": "stream",
     "text": [
      "Лучшее ОГР по листьям: 1, лучшее ОГР по глубине: 4, точность на обучающей выборке: 0.9807383627608347, точность на проверочной выборке: 0.8208955223880597\n"
     ]
    }
   ],
   "source": [
    "# ПУНКТ 3:\n",
    "# Применим регуляризацию и найдем лучшие значения:\n",
    "best_result = 0\n",
    "best_learn = 0\n",
    "best_min_samples_leaf = 0\n",
    "best_max_depth = 0\n",
    "for i in range(1, 100):\n",
    "    for j in range(1, 100):\n",
    "        tree = DecisionTreeClassifier(min_samples_leaf=i, max_depth=j)\n",
    "        tree.fit(X_train, y_train)\n",
    "        printy_predicted_train = tree.predict(X_train)\n",
    "        y_predicted_test = tree.predict(X_test)\n",
    "        if (accuracy_score(y_test, y_predicted_test)) > best_result:\n",
    "            best_result = accuracy_score(y_test, y_predicted_test)\n",
    "            best_learn = accuracy_score(y_train, y_predicted_train)\n",
    "            best_min_samples_leaf = i\n",
    "            best_max_depth = j\n",
    "print(f'Лучшее ОГР по листьям: {best_min_samples_leaf}, лучшее ОГР по глубине: {best_max_depth}, точность на обучающей выборке: {best_learn}, точность на проверочной выборке: {best_result}')"
   ]
  },
  {
   "cell_type": "code",
   "execution_count": 99,
   "id": "3f1b8c18-d189-44c0-a170-e28ce33d7c88",
   "metadata": {},
   "outputs": [
    {
     "name": "stdout",
     "output_type": "stream",
     "text": [
      "Train: 0.9807383627608347\n",
      "Test: 0.7910447761194029\n"
     ]
    }
   ],
   "source": [
    "# ПУНКТ 4:\n",
    "# Используем случайный лес и сравним резуьтаты:\n",
    "\n",
    "forest = RandomForestClassifier(random_state=3)\n",
    "forest.fit(X_train, y_train)\n",
    "y_predicted_train = forest.predict(X_train)\n",
    "y_predicted_test = forest.predict(X_test)\n",
    "\n",
    "print(\"Train:\", accuracy_score(y_train, y_predicted_train))\n",
    "print(\"Test:\", accuracy_score(y_test, y_predicted_test))"
   ]
  },
  {
   "cell_type": "code",
   "execution_count": 106,
   "id": "3a302cb3-2b4b-422a-a9a8-7555891b3979",
   "metadata": {},
   "outputs": [
    {
     "name": "stdout",
     "output_type": "stream",
     "text": [
      "Лучшее ОГР по состоянию: 54, лучшее кол-во деревьев: 10, точность на обучающей выборке: 0.9807383627608347, точность на проверочной выборке: 0.8432835820895522\n"
     ]
    }
   ],
   "source": [
    "# Пока что резуьтаты у регуляризованного дерева лучше, чем у случайного леса.\n",
    "# ПУНКТ 5:\n",
    "# Применим регуляризацию к случайному лесу:\n",
    "best_result = 0\n",
    "best_learn = 0\n",
    "best_random_state = 0\n",
    "best_n_estimators = 0\n",
    "for i in range(1, 100):\n",
    "    for j in range(1, 100):\n",
    "        forest = RandomForestClassifier(random_state=i, n_estimators=j, n_jobs=-1)\n",
    "        forest.fit(X_train, y_train)\n",
    "        y_predicted_train = forest.predict(X_train)\n",
    "        y_predicted_test = forest.predict(X_test)\n",
    "        if accuracy_score(y_test, y_predicted_test) > best_result:\n",
    "            best_result = accuracy_score(y_test, y_predicted_test)\n",
    "            best_learn = accuracy_score(y_train, y_predicted_train)\n",
    "            best_random_state = i\n",
    "            best_n_estimators = j\n",
    "print(f'Лучшее ОГР по состоянию: {best_random_state}, лучшее кол-во деревьев: {best_n_estimators}, точность на обучающей выборке: {accuracy_score(y_train, y_predicted_train)}, точность на проверочной выборке: {best_result}')"
   ]
  },
  {
   "cell_type": "code",
   "execution_count": null,
   "id": "eb13118d-72ac-48eb-a61a-e4cdd2e0d19c",
   "metadata": {},
   "outputs": [],
   "source": []
  }
 ],
 "metadata": {
  "kernelspec": {
   "display_name": "Python 3 (ipykernel)",
   "language": "python",
   "name": "python3"
  },
  "language_info": {
   "codemirror_mode": {
    "name": "ipython",
    "version": 3
   },
   "file_extension": ".py",
   "mimetype": "text/x-python",
   "name": "python",
   "nbconvert_exporter": "python",
   "pygments_lexer": "ipython3",
   "version": "3.12.2"
  }
 },
 "nbformat": 4,
 "nbformat_minor": 5
}
